{
 "cells": [
  {
   "cell_type": "markdown",
   "id": "9670e6f9",
   "metadata": {},
   "source": [
    "# AutoTrader (AT) Car Sales Prediction"
   ]
  },
  {
   "cell_type": "markdown",
   "id": "7ed01a53",
   "metadata": {},
   "source": [
    "**Problem Statement**\n",
    "AutoTrader (AT) machine learning engineers and data scientists in the implementation of the price indicator feature in AT’s website.Our main task is to produce a regression model for predicting the selling price given the characteristics of the cars in the historical data given. \n",
    "\n",
    "**Business Goal**\n",
    "We are required to model the price of cars with the available independents variables. It will be use by the management to understand how exactly the prices varry with the independent variables. They can accordingly manipulate the design of the cars, the business strategy etc. to meet certain price levels"
   ]
  },
  {
   "cell_type": "markdown",
   "id": "830ee34c",
   "metadata": {},
   "source": [
    "## Dataset Description\n",
    "CSV file - 402,005 rows x 12 columns (including price column as Target Attribute)\n",
    "\n",
    "**Attributes**\n",
    "* public_reference\t\n",
    "* mileage\t\n",
    "* reg_code\t\n",
    "* standard_colour\t\n",
    "* standard_make\t\n",
    "* standard_model\t\n",
    "* vehicle_condition\t\n",
    "* year_of_registration\t\n",
    "* price\t\n",
    "* body_type\n",
    "* crossover_car_and_van\t\n",
    "* fuel_type"
   ]
  },
  {
   "cell_type": "code",
   "execution_count": 209,
   "id": "24d0e368",
   "metadata": {},
   "outputs": [],
   "source": [
    "import warnings\n",
    "import math\n",
    "import random\n",
    "\n",
    "# **DATA PROCESSING**\n",
    "import numpy as np\n",
    "import pandas as pd\n",
    "\n",
    "# **DATA ANAYLSIS**\n",
    "import matplotlib.pyplot as plt\n",
    "import seaborn as sns\n",
    "\n",
    "\n",
    "\n",
    "\n",
    "warnings.filterwarnings('ignore')\n",
    "%matplotlib inline"
   ]
  },
  {
   "cell_type": "markdown",
   "id": "5c6934e4",
   "metadata": {},
   "source": [
    "## Step 1: Load and Understand the Dataset\n",
    "\n",
    "## Dataset Description\n",
    "CSV file - 402,005 rows x 12 columns (including price column as Target Attribute)\n",
    "\n",
    "**Attributes**\n",
    "* public_reference - is a primary key of the dataset and is thus useless for the modeling, remove it\t\n",
    "* mileage\t\n",
    "* reg_code\t\n",
    "* standard_colour\t\n",
    "* standard_make\t\n",
    "* standard_model\t\n",
    "* vehicle_condition\t\n",
    "* year_of_registration\t\n",
    "* price\t- is our target value\n",
    "* body_type\n",
    "* crossover_car_and_van\t\n",
    "* fuel_type"
   ]
  },
  {
   "cell_type": "markdown",
   "id": "1fd8defd",
   "metadata": {},
   "source": [
    "Let's start with the following steps:\n",
    "1. Importing data using the pandas library\n",
    "2. Understanding the structure of the data"
   ]
  },
  {
   "cell_type": "code",
   "execution_count": 210,
   "id": "9af6a5ff",
   "metadata": {},
   "outputs": [
    {
     "data": {
      "text/html": [
       "<div>\n",
       "<style scoped>\n",
       "    .dataframe tbody tr th:only-of-type {\n",
       "        vertical-align: middle;\n",
       "    }\n",
       "\n",
       "    .dataframe tbody tr th {\n",
       "        vertical-align: top;\n",
       "    }\n",
       "\n",
       "    .dataframe thead th {\n",
       "        text-align: right;\n",
       "    }\n",
       "</style>\n",
       "<table border=\"1\" class=\"dataframe\">\n",
       "  <thead>\n",
       "    <tr style=\"text-align: right;\">\n",
       "      <th></th>\n",
       "      <th>public_reference</th>\n",
       "      <th>mileage</th>\n",
       "      <th>reg_code</th>\n",
       "      <th>standard_colour</th>\n",
       "      <th>standard_make</th>\n",
       "      <th>standard_model</th>\n",
       "      <th>vehicle_condition</th>\n",
       "      <th>year_of_registration</th>\n",
       "      <th>price</th>\n",
       "      <th>body_type</th>\n",
       "      <th>crossover_car_and_van</th>\n",
       "      <th>fuel_type</th>\n",
       "    </tr>\n",
       "  </thead>\n",
       "  <tbody>\n",
       "    <tr>\n",
       "      <th>0</th>\n",
       "      <td>202006039777689</td>\n",
       "      <td>0.0</td>\n",
       "      <td>NaN</td>\n",
       "      <td>Grey</td>\n",
       "      <td>Volvo</td>\n",
       "      <td>XC90</td>\n",
       "      <td>NEW</td>\n",
       "      <td>NaN</td>\n",
       "      <td>73970</td>\n",
       "      <td>SUV</td>\n",
       "      <td>False</td>\n",
       "      <td>Petrol Plug-in Hybrid</td>\n",
       "    </tr>\n",
       "    <tr>\n",
       "      <th>1</th>\n",
       "      <td>202007020778260</td>\n",
       "      <td>108230.0</td>\n",
       "      <td>61</td>\n",
       "      <td>Blue</td>\n",
       "      <td>Jaguar</td>\n",
       "      <td>XF</td>\n",
       "      <td>USED</td>\n",
       "      <td>2011.0</td>\n",
       "      <td>7000</td>\n",
       "      <td>Saloon</td>\n",
       "      <td>False</td>\n",
       "      <td>Diesel</td>\n",
       "    </tr>\n",
       "    <tr>\n",
       "      <th>2</th>\n",
       "      <td>202007020778474</td>\n",
       "      <td>7800.0</td>\n",
       "      <td>17</td>\n",
       "      <td>Grey</td>\n",
       "      <td>SKODA</td>\n",
       "      <td>Yeti</td>\n",
       "      <td>USED</td>\n",
       "      <td>2017.0</td>\n",
       "      <td>14000</td>\n",
       "      <td>SUV</td>\n",
       "      <td>False</td>\n",
       "      <td>Petrol</td>\n",
       "    </tr>\n",
       "    <tr>\n",
       "      <th>3</th>\n",
       "      <td>202007080986776</td>\n",
       "      <td>45000.0</td>\n",
       "      <td>16</td>\n",
       "      <td>Brown</td>\n",
       "      <td>Vauxhall</td>\n",
       "      <td>Mokka</td>\n",
       "      <td>USED</td>\n",
       "      <td>2016.0</td>\n",
       "      <td>7995</td>\n",
       "      <td>Hatchback</td>\n",
       "      <td>False</td>\n",
       "      <td>Diesel</td>\n",
       "    </tr>\n",
       "    <tr>\n",
       "      <th>4</th>\n",
       "      <td>202007161321269</td>\n",
       "      <td>64000.0</td>\n",
       "      <td>64</td>\n",
       "      <td>Grey</td>\n",
       "      <td>Land Rover</td>\n",
       "      <td>Range Rover Sport</td>\n",
       "      <td>USED</td>\n",
       "      <td>2015.0</td>\n",
       "      <td>26995</td>\n",
       "      <td>SUV</td>\n",
       "      <td>False</td>\n",
       "      <td>Diesel</td>\n",
       "    </tr>\n",
       "  </tbody>\n",
       "</table>\n",
       "</div>"
      ],
      "text/plain": [
       "   public_reference   mileage reg_code standard_colour standard_make  \\\n",
       "0   202006039777689       0.0      NaN            Grey         Volvo   \n",
       "1   202007020778260  108230.0       61            Blue        Jaguar   \n",
       "2   202007020778474    7800.0       17            Grey         SKODA   \n",
       "3   202007080986776   45000.0       16           Brown      Vauxhall   \n",
       "4   202007161321269   64000.0       64            Grey    Land Rover   \n",
       "\n",
       "      standard_model vehicle_condition  year_of_registration  price  \\\n",
       "0               XC90               NEW                   NaN  73970   \n",
       "1                 XF              USED                2011.0   7000   \n",
       "2               Yeti              USED                2017.0  14000   \n",
       "3              Mokka              USED                2016.0   7995   \n",
       "4  Range Rover Sport              USED                2015.0  26995   \n",
       "\n",
       "   body_type  crossover_car_and_van              fuel_type  \n",
       "0        SUV                  False  Petrol Plug-in Hybrid  \n",
       "1     Saloon                  False                 Diesel  \n",
       "2        SUV                  False                 Petrol  \n",
       "3  Hatchback                  False                 Diesel  \n",
       "4        SUV                  False                 Diesel  "
      ]
     },
     "execution_count": 210,
     "metadata": {},
     "output_type": "execute_result"
    }
   ],
   "source": [
    "# load dataset\n",
    "df = pd.read_csv('data/adverts.xls')\n",
    "df.head()"
   ]
  },
  {
   "cell_type": "code",
   "execution_count": 211,
   "id": "087758f0",
   "metadata": {},
   "outputs": [
    {
     "data": {
      "text/plain": [
       "(402005, 12)"
      ]
     },
     "execution_count": 211,
     "metadata": {},
     "output_type": "execute_result"
    }
   ],
   "source": [
    "# check shape\n",
    "df.shape"
   ]
  },
  {
   "cell_type": "code",
   "execution_count": 212,
   "id": "e8f882c0",
   "metadata": {},
   "outputs": [
    {
     "data": {
      "text/plain": [
       "array(['Grey', 'Blue', 'Brown', 'Red', 'Bronze', 'Black', 'White',\n",
       "       'Silver', nan, 'Purple', 'Green', 'Orange', 'Yellow', 'Turquoise',\n",
       "       'Gold', 'Multicolour', 'Beige', 'Burgundy', 'Pink', 'Maroon',\n",
       "       'Magenta', 'Navy', 'Indigo'], dtype=object)"
      ]
     },
     "execution_count": 212,
     "metadata": {},
     "output_type": "execute_result"
    }
   ],
   "source": [
    "# check unique values of car colors\n",
    "df['standard_colour'].unique()"
   ]
  },
  {
   "cell_type": "code",
   "execution_count": 213,
   "id": "4e9f4951",
   "metadata": {},
   "outputs": [
    {
     "data": {
      "text/plain": [
       "array(['Volvo', 'Jaguar', 'SKODA', 'Vauxhall', 'Land Rover', 'Audi',\n",
       "       'Mercedes-Benz', 'Volkswagen', 'Peugeot', 'SEAT', 'MINI', 'BMW',\n",
       "       'Nissan', 'Mitsubishi', 'Ferrari', 'Citroen', 'Toyota', 'Kia',\n",
       "       'Renault', 'Fiat', 'Honda', 'Bentley', 'DS AUTOMOBILES', 'Hyundai',\n",
       "       'Aston Martin', 'McLaren', 'Smart', 'Alfa Romeo', 'Porsche',\n",
       "       'Abarth', 'Mazda', 'Suzuki', 'MG', 'Dacia', 'Subaru', 'SsangYong',\n",
       "       'Maserati', 'Saab', 'Rolls-Royce', 'Lexus', 'Jeep', 'Panther',\n",
       "       'Chevrolet', 'Lamborghini', 'Daihatsu', 'Dodge', 'Isuzu', 'Lotus',\n",
       "       'Tesla', 'TVR', 'GMC', 'Rover', 'Cadillac', 'Infiniti', 'Alpine',\n",
       "       'Chrysler', 'Triumph', 'Morgan', 'Dax',\n",
       "       'London Taxis International', 'Daimler', 'CUPRA', 'Perodua',\n",
       "       'Lincoln', 'Bugatti', 'Great Wall', 'Replica', 'Opel', 'AC',\n",
       "       'Proton', 'Lancia', 'Austin', 'Morris', 'Westfield', 'Maybach',\n",
       "       'Corvette', 'Tiger', 'LEVC', 'Iveco', 'Caterham', 'Hummer',\n",
       "       'Carbodies', 'Jensen', 'International', 'Daewoo', 'Pagani',\n",
       "       'Wolseley', 'Pilgrim', 'Bristol', 'Aixam', 'Holden', 'Reliant',\n",
       "       'Ariel', 'Plymouth', 'Leyland', 'BAC', 'Beauford', 'Ultima', 'Mev',\n",
       "       'Datsun', 'Zenos', 'AK', 'Noble', 'Buick', 'Gentry', 'Sebring',\n",
       "       'Radical', 'Pontiac', 'Mitsuoka', 'Custom Vehicle'], dtype=object)"
      ]
     },
     "execution_count": 213,
     "metadata": {},
     "output_type": "execute_result"
    }
   ],
   "source": [
    "# check unique values of car standard make\n",
    "df['standard_make'].unique()"
   ]
  },
  {
   "cell_type": "code",
   "execution_count": 214,
   "id": "159c8720",
   "metadata": {},
   "outputs": [
    {
     "data": {
      "text/plain": [
       "array(['XC90', 'XF', 'Yeti', ..., 'Sera', 'Pininfarina', '480'],\n",
       "      dtype=object)"
      ]
     },
     "execution_count": 214,
     "metadata": {},
     "output_type": "execute_result"
    }
   ],
   "source": [
    "# check unique values of car standard model\n",
    "df['standard_model'].unique()"
   ]
  },
  {
   "cell_type": "code",
   "execution_count": 215,
   "id": "387303f6",
   "metadata": {},
   "outputs": [
    {
     "data": {
      "text/plain": [
       "array(['NEW', 'USED'], dtype=object)"
      ]
     },
     "execution_count": 215,
     "metadata": {},
     "output_type": "execute_result"
    }
   ],
   "source": [
    "df['vehicle_condition'].unique()"
   ]
  },
  {
   "cell_type": "code",
   "execution_count": 216,
   "id": "9b03512e",
   "metadata": {},
   "outputs": [
    {
     "data": {
      "text/plain": [
       "array([  nan, 2011., 2017., 2016., 2015., 2013., 2008., 2019., 2010.,\n",
       "       2012., 2018., 2009., 1984., 2014., 2003., 2006., 2020., 2005.,\n",
       "       2000., 2002., 2007., 2004., 1991., 2001., 1986., 1998., 1990.,\n",
       "       1993., 1987., 1994., 1999., 1970., 1988., 1995., 1997., 1969.,\n",
       "       1992., 1989., 1996., 1976., 1983., 1980., 1973., 1962., 1967.,\n",
       "       1972., 1982., 1968., 1979., 1964., 1933., 1981., 1985., 1978.,\n",
       "       1971., 1974., 1966., 1977., 1961., 1965., 1007., 1957., 1515.,\n",
       "       1963., 1063., 1954., 1975., 1955., 1009., 1016., 1960., 1956.,\n",
       "       1959., 1909., 1934., 1958., 1010., 1950., 1008., 1018.,  999.,\n",
       "       1017., 1952., 1006., 1015.])"
      ]
     },
     "execution_count": 216,
     "metadata": {},
     "output_type": "execute_result"
    }
   ],
   "source": [
    "df['year_of_registration'].unique()"
   ]
  },
  {
   "cell_type": "markdown",
   "id": "dbac41f8",
   "metadata": {},
   "source": [
    "**What we found out**<br>\n",
    "The dataset contains cars from the year 999 - 2020. It is obvious that a date appear as '999' instead of '1999'"
   ]
  },
  {
   "cell_type": "code",
   "execution_count": 219,
   "id": "137d3795",
   "metadata": {},
   "outputs": [
    {
     "name": "stdout",
     "output_type": "stream",
     "text": [
      "<class 'pandas.core.frame.DataFrame'>\n",
      "RangeIndex: 402005 entries, 0 to 402004\n",
      "Data columns (total 12 columns):\n",
      " #   Column                 Non-Null Count   Dtype  \n",
      "---  ------                 --------------   -----  \n",
      " 0   public_reference       402005 non-null  int64  \n",
      " 1   mileage                401878 non-null  float64\n",
      " 2   reg_code               370148 non-null  object \n",
      " 3   standard_colour        396627 non-null  object \n",
      " 4   standard_make          402005 non-null  object \n",
      " 5   standard_model         402005 non-null  object \n",
      " 6   vehicle_condition      402005 non-null  object \n",
      " 7   year_of_registration   368694 non-null  float64\n",
      " 8   price                  402005 non-null  int64  \n",
      " 9   body_type              401168 non-null  object \n",
      " 10  crossover_car_and_van  402005 non-null  bool   \n",
      " 11  fuel_type              401404 non-null  object \n",
      "dtypes: bool(1), float64(2), int64(2), object(7)\n",
      "memory usage: 34.1+ MB\n"
     ]
    }
   ],
   "source": [
    "# return dataset info\n",
    "df.info()"
   ]
  },
  {
   "cell_type": "markdown",
   "id": "5b7fec5a",
   "metadata": {},
   "source": [
    "## Step 2: Data Cleaning"
   ]
  },
  {
   "cell_type": "code",
   "execution_count": 220,
   "id": "8124e20d",
   "metadata": {},
   "outputs": [],
   "source": [
    "# replace the date 999 to 1999\n",
    "def change_date(year_of_reg):\n",
    "    if year_of_reg == 999:\n",
    "        year_of_reg = 1999\n",
    "    return year_of_reg\n",
    "\n",
    "df['year_of_registration'] = df['year_of_registration'].apply(change_date)"
   ]
  },
  {
   "cell_type": "code",
   "execution_count": 221,
   "id": "0d7ff072",
   "metadata": {},
   "outputs": [
    {
     "data": {
      "text/html": [
       "<div>\n",
       "<style scoped>\n",
       "    .dataframe tbody tr th:only-of-type {\n",
       "        vertical-align: middle;\n",
       "    }\n",
       "\n",
       "    .dataframe tbody tr th {\n",
       "        vertical-align: top;\n",
       "    }\n",
       "\n",
       "    .dataframe thead th {\n",
       "        text-align: right;\n",
       "    }\n",
       "</style>\n",
       "<table border=\"1\" class=\"dataframe\">\n",
       "  <thead>\n",
       "    <tr style=\"text-align: right;\">\n",
       "      <th></th>\n",
       "      <th>columns</th>\n",
       "      <th>no missing</th>\n",
       "      <th>% missing</th>\n",
       "    </tr>\n",
       "  </thead>\n",
       "  <tbody>\n",
       "    <tr>\n",
       "      <th>0</th>\n",
       "      <td>public_reference</td>\n",
       "      <td>0</td>\n",
       "      <td>0.000000</td>\n",
       "    </tr>\n",
       "    <tr>\n",
       "      <th>1</th>\n",
       "      <td>mileage</td>\n",
       "      <td>127</td>\n",
       "      <td>0.031592</td>\n",
       "    </tr>\n",
       "    <tr>\n",
       "      <th>2</th>\n",
       "      <td>reg_code</td>\n",
       "      <td>31857</td>\n",
       "      <td>7.924528</td>\n",
       "    </tr>\n",
       "    <tr>\n",
       "      <th>3</th>\n",
       "      <td>standard_colour</td>\n",
       "      <td>5378</td>\n",
       "      <td>1.337794</td>\n",
       "    </tr>\n",
       "    <tr>\n",
       "      <th>4</th>\n",
       "      <td>standard_make</td>\n",
       "      <td>0</td>\n",
       "      <td>0.000000</td>\n",
       "    </tr>\n",
       "    <tr>\n",
       "      <th>5</th>\n",
       "      <td>standard_model</td>\n",
       "      <td>0</td>\n",
       "      <td>0.000000</td>\n",
       "    </tr>\n",
       "    <tr>\n",
       "      <th>6</th>\n",
       "      <td>vehicle_condition</td>\n",
       "      <td>0</td>\n",
       "      <td>0.000000</td>\n",
       "    </tr>\n",
       "    <tr>\n",
       "      <th>7</th>\n",
       "      <td>year_of_registration</td>\n",
       "      <td>33311</td>\n",
       "      <td>8.286215</td>\n",
       "    </tr>\n",
       "    <tr>\n",
       "      <th>8</th>\n",
       "      <td>price</td>\n",
       "      <td>0</td>\n",
       "      <td>0.000000</td>\n",
       "    </tr>\n",
       "    <tr>\n",
       "      <th>9</th>\n",
       "      <td>body_type</td>\n",
       "      <td>837</td>\n",
       "      <td>0.208206</td>\n",
       "    </tr>\n",
       "    <tr>\n",
       "      <th>10</th>\n",
       "      <td>crossover_car_and_van</td>\n",
       "      <td>0</td>\n",
       "      <td>0.000000</td>\n",
       "    </tr>\n",
       "    <tr>\n",
       "      <th>11</th>\n",
       "      <td>fuel_type</td>\n",
       "      <td>601</td>\n",
       "      <td>0.149501</td>\n",
       "    </tr>\n",
       "  </tbody>\n",
       "</table>\n",
       "</div>"
      ],
      "text/plain": [
       "                  columns  no missing  % missing\n",
       "0        public_reference           0   0.000000\n",
       "1                 mileage         127   0.031592\n",
       "2                reg_code       31857   7.924528\n",
       "3         standard_colour        5378   1.337794\n",
       "4           standard_make           0   0.000000\n",
       "5          standard_model           0   0.000000\n",
       "6       vehicle_condition           0   0.000000\n",
       "7    year_of_registration       33311   8.286215\n",
       "8                   price           0   0.000000\n",
       "9               body_type         837   0.208206\n",
       "10  crossover_car_and_van           0   0.000000\n",
       "11              fuel_type         601   0.149501"
      ]
     },
     "execution_count": 221,
     "metadata": {},
     "output_type": "execute_result"
    }
   ],
   "source": [
    "missing_values = {\n",
    "    'columns': np.array(df.columns),\n",
    "    'no missing': df.isnull().sum().values,\n",
    "    '% missing': (df.isnull().sum().values / len(df)) * 100\n",
    "}\n",
    "\n",
    "missing_df = pd.DataFrame(missing_values)\n",
    "missing_df"
   ]
  },
  {
   "cell_type": "markdown",
   "id": "0859d0cb",
   "metadata": {},
   "source": [
    "**What we found out** <br>\n",
    "There are missing values in some of the columns like: mileage (0.03%), reg_code (7.92%), standard_color (1.34%),\n",
    "year_of_registration (8.28%), body_type (0.20%) and fuel_type (0.12%)"
   ]
  },
  {
   "cell_type": "markdown",
   "id": "b31f30cf",
   "metadata": {},
   "source": [
    "## Dealing with the missing values"
   ]
  },
  {
   "cell_type": "code",
   "execution_count": 222,
   "id": "ccabf0f7",
   "metadata": {},
   "outputs": [],
   "source": [
    "# mileage - relace missing values with average\n",
    "df['mileage'].fillna(np.round(df['mileage'].mean()), inplace=True)"
   ]
  },
  {
   "cell_type": "code",
   "execution_count": 223,
   "id": "ee729f31",
   "metadata": {},
   "outputs": [],
   "source": [
    "# standard color - relace missing values with mode\n",
    "df['standard_colour'].fillna(df['standard_colour'].mode()[0], inplace=True)"
   ]
  },
  {
   "cell_type": "code",
   "execution_count": 224,
   "id": "143d93af",
   "metadata": {},
   "outputs": [],
   "source": [
    "# body type - relace missing values with mode\n",
    "df['body_type'].fillna(df['body_type'].mode()[0], inplace=True)"
   ]
  },
  {
   "cell_type": "code",
   "execution_count": 226,
   "id": "3474e1b6",
   "metadata": {},
   "outputs": [],
   "source": [
    "# fuel type - relace missing values with mode\n",
    "df['fuel_type'].fillna(df['fuel_type'].mode()[0], inplace=True)"
   ]
  },
  {
   "cell_type": "code",
   "execution_count": 230,
   "id": "3549e46b",
   "metadata": {},
   "outputs": [],
   "source": [
    "# year_of_registration - drop rows with missing values\n",
    "df.dropna(inplace=True)"
   ]
  },
  {
   "cell_type": "code",
   "execution_count": 231,
   "id": "2b0d78bf",
   "metadata": {},
   "outputs": [
    {
     "name": "stdout",
     "output_type": "stream",
     "text": [
      "<class 'pandas.core.frame.DataFrame'>\n",
      "Int64Index: 368407 entries, 1 to 402004\n",
      "Data columns (total 12 columns):\n",
      " #   Column                 Non-Null Count   Dtype  \n",
      "---  ------                 --------------   -----  \n",
      " 0   public_reference       368407 non-null  int64  \n",
      " 1   mileage                368407 non-null  float64\n",
      " 2   reg_code               368407 non-null  object \n",
      " 3   standard_colour        368407 non-null  object \n",
      " 4   standard_make          368407 non-null  object \n",
      " 5   standard_model         368407 non-null  object \n",
      " 6   vehicle_condition      368407 non-null  object \n",
      " 7   year_of_registration   368407 non-null  float64\n",
      " 8   price                  368407 non-null  int64  \n",
      " 9   body_type              368407 non-null  object \n",
      " 10  crossover_car_and_van  368407 non-null  bool   \n",
      " 11  fuel_type              368407 non-null  object \n",
      "dtypes: bool(1), float64(2), int64(2), object(7)\n",
      "memory usage: 34.1+ MB\n"
     ]
    }
   ],
   "source": [
    "# check info\n",
    "df.info()"
   ]
  },
  {
   "cell_type": "code",
   "execution_count": 232,
   "id": "53793984",
   "metadata": {},
   "outputs": [
    {
     "data": {
      "text/html": [
       "<div>\n",
       "<style scoped>\n",
       "    .dataframe tbody tr th:only-of-type {\n",
       "        vertical-align: middle;\n",
       "    }\n",
       "\n",
       "    .dataframe tbody tr th {\n",
       "        vertical-align: top;\n",
       "    }\n",
       "\n",
       "    .dataframe thead th {\n",
       "        text-align: right;\n",
       "    }\n",
       "</style>\n",
       "<table border=\"1\" class=\"dataframe\">\n",
       "  <thead>\n",
       "    <tr style=\"text-align: right;\">\n",
       "      <th></th>\n",
       "      <th>public_reference</th>\n",
       "      <th>mileage</th>\n",
       "      <th>reg_code</th>\n",
       "      <th>standard_colour</th>\n",
       "      <th>standard_make</th>\n",
       "      <th>standard_model</th>\n",
       "      <th>vehicle_condition</th>\n",
       "      <th>year_of_registration</th>\n",
       "      <th>price</th>\n",
       "      <th>body_type</th>\n",
       "      <th>crossover_car_and_van</th>\n",
       "      <th>fuel_type</th>\n",
       "    </tr>\n",
       "  </thead>\n",
       "  <tbody>\n",
       "    <tr>\n",
       "      <th>1</th>\n",
       "      <td>202007020778260</td>\n",
       "      <td>108230.0</td>\n",
       "      <td>61</td>\n",
       "      <td>Blue</td>\n",
       "      <td>Jaguar</td>\n",
       "      <td>XF</td>\n",
       "      <td>USED</td>\n",
       "      <td>2011.0</td>\n",
       "      <td>7000</td>\n",
       "      <td>Saloon</td>\n",
       "      <td>False</td>\n",
       "      <td>Diesel</td>\n",
       "    </tr>\n",
       "    <tr>\n",
       "      <th>2</th>\n",
       "      <td>202007020778474</td>\n",
       "      <td>7800.0</td>\n",
       "      <td>17</td>\n",
       "      <td>Grey</td>\n",
       "      <td>SKODA</td>\n",
       "      <td>Yeti</td>\n",
       "      <td>USED</td>\n",
       "      <td>2017.0</td>\n",
       "      <td>14000</td>\n",
       "      <td>SUV</td>\n",
       "      <td>False</td>\n",
       "      <td>Petrol</td>\n",
       "    </tr>\n",
       "    <tr>\n",
       "      <th>3</th>\n",
       "      <td>202007080986776</td>\n",
       "      <td>45000.0</td>\n",
       "      <td>16</td>\n",
       "      <td>Brown</td>\n",
       "      <td>Vauxhall</td>\n",
       "      <td>Mokka</td>\n",
       "      <td>USED</td>\n",
       "      <td>2016.0</td>\n",
       "      <td>7995</td>\n",
       "      <td>Hatchback</td>\n",
       "      <td>False</td>\n",
       "      <td>Diesel</td>\n",
       "    </tr>\n",
       "    <tr>\n",
       "      <th>4</th>\n",
       "      <td>202007161321269</td>\n",
       "      <td>64000.0</td>\n",
       "      <td>64</td>\n",
       "      <td>Grey</td>\n",
       "      <td>Land Rover</td>\n",
       "      <td>Range Rover Sport</td>\n",
       "      <td>USED</td>\n",
       "      <td>2015.0</td>\n",
       "      <td>26995</td>\n",
       "      <td>SUV</td>\n",
       "      <td>False</td>\n",
       "      <td>Diesel</td>\n",
       "    </tr>\n",
       "    <tr>\n",
       "      <th>5</th>\n",
       "      <td>202009304412074</td>\n",
       "      <td>16000.0</td>\n",
       "      <td>17</td>\n",
       "      <td>Blue</td>\n",
       "      <td>Audi</td>\n",
       "      <td>S5</td>\n",
       "      <td>USED</td>\n",
       "      <td>2017.0</td>\n",
       "      <td>29000</td>\n",
       "      <td>Convertible</td>\n",
       "      <td>False</td>\n",
       "      <td>Petrol</td>\n",
       "    </tr>\n",
       "  </tbody>\n",
       "</table>\n",
       "</div>"
      ],
      "text/plain": [
       "   public_reference   mileage reg_code standard_colour standard_make  \\\n",
       "1   202007020778260  108230.0       61            Blue        Jaguar   \n",
       "2   202007020778474    7800.0       17            Grey         SKODA   \n",
       "3   202007080986776   45000.0       16           Brown      Vauxhall   \n",
       "4   202007161321269   64000.0       64            Grey    Land Rover   \n",
       "5   202009304412074   16000.0       17            Blue          Audi   \n",
       "\n",
       "      standard_model vehicle_condition  year_of_registration  price  \\\n",
       "1                 XF              USED                2011.0   7000   \n",
       "2               Yeti              USED                2017.0  14000   \n",
       "3              Mokka              USED                2016.0   7995   \n",
       "4  Range Rover Sport              USED                2015.0  26995   \n",
       "5                 S5              USED                2017.0  29000   \n",
       "\n",
       "     body_type  crossover_car_and_van fuel_type  \n",
       "1       Saloon                  False    Diesel  \n",
       "2          SUV                  False    Petrol  \n",
       "3    Hatchback                  False    Diesel  \n",
       "4          SUV                  False    Diesel  \n",
       "5  Convertible                  False    Petrol  "
      ]
     },
     "execution_count": 232,
     "metadata": {},
     "output_type": "execute_result"
    }
   ],
   "source": [
    "df.head()"
   ]
  },
  {
   "cell_type": "markdown",
   "id": "0f7ffa42",
   "metadata": {},
   "source": [
    "## Step 3: Feature Engineering\n"
   ]
  },
  {
   "cell_type": "code",
   "execution_count": 235,
   "id": "58091b65",
   "metadata": {},
   "outputs": [],
   "source": [
    "# set dataframe index\n",
    "df.set_index('public_reference', inplace=True)"
   ]
  },
  {
   "cell_type": "code",
   "execution_count": 249,
   "id": "d3f3bbae",
   "metadata": {},
   "outputs": [],
   "source": [
    "# calculate car age: the numerical difference between the curent calendar year and the vehicle model year\n",
    "df['car_age'] = 2023 - df['year_of_registration']\n",
    "df['car_age'] = df['car_age'].astype(int)"
   ]
  },
  {
   "cell_type": "code",
   "execution_count": 245,
   "id": "c27f6bd1",
   "metadata": {},
   "outputs": [],
   "source": [
    "# calculate mile per year\n",
    "df[\"mile_per_yr\"] = np.where(df[\"car_age\"] == 0, 0, df[\"mileage\"] / df[\"car_age\"])"
   ]
  },
  {
   "cell_type": "code",
   "execution_count": 250,
   "id": "a6c19d44",
   "metadata": {},
   "outputs": [],
   "source": [
    "# group the mile\n",
    "def mile_group(mile):\n",
    "        if mile == 0:\n",
    "            return \"No Mileage\"\n",
    "        elif mile < 7052:\n",
    "            return \"Low Mileage\"\n",
    "        elif mile > 7052:\n",
    "            return \"High Mileage\"\n",
    "        else:\n",
    "            return \"Moderate Mileage\""
   ]
  },
  {
   "cell_type": "code",
   "execution_count": 251,
   "id": "07a18f6a",
   "metadata": {},
   "outputs": [],
   "source": [
    "df[\"mile_yr_group\"] = df[\"mile_per_yr\"].apply(mile_group)"
   ]
  },
  {
   "cell_type": "code",
   "execution_count": 252,
   "id": "2556fdd8",
   "metadata": {},
   "outputs": [
    {
     "data": {
      "text/html": [
       "<div>\n",
       "<style scoped>\n",
       "    .dataframe tbody tr th:only-of-type {\n",
       "        vertical-align: middle;\n",
       "    }\n",
       "\n",
       "    .dataframe tbody tr th {\n",
       "        vertical-align: top;\n",
       "    }\n",
       "\n",
       "    .dataframe thead th {\n",
       "        text-align: right;\n",
       "    }\n",
       "</style>\n",
       "<table border=\"1\" class=\"dataframe\">\n",
       "  <thead>\n",
       "    <tr style=\"text-align: right;\">\n",
       "      <th></th>\n",
       "      <th>mileage</th>\n",
       "      <th>reg_code</th>\n",
       "      <th>standard_colour</th>\n",
       "      <th>standard_make</th>\n",
       "      <th>standard_model</th>\n",
       "      <th>vehicle_condition</th>\n",
       "      <th>year_of_registration</th>\n",
       "      <th>price</th>\n",
       "      <th>body_type</th>\n",
       "      <th>crossover_car_and_van</th>\n",
       "      <th>fuel_type</th>\n",
       "      <th>car_age</th>\n",
       "      <th>mile_per_yr</th>\n",
       "      <th>mile_yr_group</th>\n",
       "    </tr>\n",
       "    <tr>\n",
       "      <th>public_reference</th>\n",
       "      <th></th>\n",
       "      <th></th>\n",
       "      <th></th>\n",
       "      <th></th>\n",
       "      <th></th>\n",
       "      <th></th>\n",
       "      <th></th>\n",
       "      <th></th>\n",
       "      <th></th>\n",
       "      <th></th>\n",
       "      <th></th>\n",
       "      <th></th>\n",
       "      <th></th>\n",
       "      <th></th>\n",
       "    </tr>\n",
       "  </thead>\n",
       "  <tbody>\n",
       "    <tr>\n",
       "      <th>202007020778260</th>\n",
       "      <td>108230.0</td>\n",
       "      <td>61</td>\n",
       "      <td>Blue</td>\n",
       "      <td>Jaguar</td>\n",
       "      <td>XF</td>\n",
       "      <td>USED</td>\n",
       "      <td>2011.0</td>\n",
       "      <td>7000</td>\n",
       "      <td>Saloon</td>\n",
       "      <td>False</td>\n",
       "      <td>Diesel</td>\n",
       "      <td>12</td>\n",
       "      <td>9019.166667</td>\n",
       "      <td>High Mileage</td>\n",
       "    </tr>\n",
       "    <tr>\n",
       "      <th>202007020778474</th>\n",
       "      <td>7800.0</td>\n",
       "      <td>17</td>\n",
       "      <td>Grey</td>\n",
       "      <td>SKODA</td>\n",
       "      <td>Yeti</td>\n",
       "      <td>USED</td>\n",
       "      <td>2017.0</td>\n",
       "      <td>14000</td>\n",
       "      <td>SUV</td>\n",
       "      <td>False</td>\n",
       "      <td>Petrol</td>\n",
       "      <td>6</td>\n",
       "      <td>1300.000000</td>\n",
       "      <td>Low Mileage</td>\n",
       "    </tr>\n",
       "    <tr>\n",
       "      <th>202007080986776</th>\n",
       "      <td>45000.0</td>\n",
       "      <td>16</td>\n",
       "      <td>Brown</td>\n",
       "      <td>Vauxhall</td>\n",
       "      <td>Mokka</td>\n",
       "      <td>USED</td>\n",
       "      <td>2016.0</td>\n",
       "      <td>7995</td>\n",
       "      <td>Hatchback</td>\n",
       "      <td>False</td>\n",
       "      <td>Diesel</td>\n",
       "      <td>7</td>\n",
       "      <td>6428.571429</td>\n",
       "      <td>Low Mileage</td>\n",
       "    </tr>\n",
       "    <tr>\n",
       "      <th>202007161321269</th>\n",
       "      <td>64000.0</td>\n",
       "      <td>64</td>\n",
       "      <td>Grey</td>\n",
       "      <td>Land Rover</td>\n",
       "      <td>Range Rover Sport</td>\n",
       "      <td>USED</td>\n",
       "      <td>2015.0</td>\n",
       "      <td>26995</td>\n",
       "      <td>SUV</td>\n",
       "      <td>False</td>\n",
       "      <td>Diesel</td>\n",
       "      <td>8</td>\n",
       "      <td>8000.000000</td>\n",
       "      <td>High Mileage</td>\n",
       "    </tr>\n",
       "    <tr>\n",
       "      <th>202009304412074</th>\n",
       "      <td>16000.0</td>\n",
       "      <td>17</td>\n",
       "      <td>Blue</td>\n",
       "      <td>Audi</td>\n",
       "      <td>S5</td>\n",
       "      <td>USED</td>\n",
       "      <td>2017.0</td>\n",
       "      <td>29000</td>\n",
       "      <td>Convertible</td>\n",
       "      <td>False</td>\n",
       "      <td>Petrol</td>\n",
       "      <td>6</td>\n",
       "      <td>2666.666667</td>\n",
       "      <td>Low Mileage</td>\n",
       "    </tr>\n",
       "  </tbody>\n",
       "</table>\n",
       "</div>"
      ],
      "text/plain": [
       "                   mileage reg_code standard_colour standard_make  \\\n",
       "public_reference                                                    \n",
       "202007020778260   108230.0       61            Blue        Jaguar   \n",
       "202007020778474     7800.0       17            Grey         SKODA   \n",
       "202007080986776    45000.0       16           Brown      Vauxhall   \n",
       "202007161321269    64000.0       64            Grey    Land Rover   \n",
       "202009304412074    16000.0       17            Blue          Audi   \n",
       "\n",
       "                     standard_model vehicle_condition  year_of_registration  \\\n",
       "public_reference                                                              \n",
       "202007020778260                  XF              USED                2011.0   \n",
       "202007020778474                Yeti              USED                2017.0   \n",
       "202007080986776               Mokka              USED                2016.0   \n",
       "202007161321269   Range Rover Sport              USED                2015.0   \n",
       "202009304412074                  S5              USED                2017.0   \n",
       "\n",
       "                  price    body_type  crossover_car_and_van fuel_type  \\\n",
       "public_reference                                                        \n",
       "202007020778260    7000       Saloon                  False    Diesel   \n",
       "202007020778474   14000          SUV                  False    Petrol   \n",
       "202007080986776    7995    Hatchback                  False    Diesel   \n",
       "202007161321269   26995          SUV                  False    Diesel   \n",
       "202009304412074   29000  Convertible                  False    Petrol   \n",
       "\n",
       "                  car_age  mile_per_yr mile_yr_group  \n",
       "public_reference                                      \n",
       "202007020778260        12  9019.166667  High Mileage  \n",
       "202007020778474         6  1300.000000   Low Mileage  \n",
       "202007080986776         7  6428.571429   Low Mileage  \n",
       "202007161321269         8  8000.000000  High Mileage  \n",
       "202009304412074         6  2666.666667   Low Mileage  "
      ]
     },
     "execution_count": 252,
     "metadata": {},
     "output_type": "execute_result"
    }
   ],
   "source": [
    "df.head()"
   ]
  },
  {
   "cell_type": "markdown",
   "id": "8c4f7a22",
   "metadata": {},
   "source": [
    "**Conclusion with the Data Cleaning Process**"
   ]
  },
  {
   "cell_type": "code",
   "execution_count": null,
   "id": "a43226a3",
   "metadata": {},
   "outputs": [],
   "source": []
  }
 ],
 "metadata": {
  "kernelspec": {
   "display_name": "Python 3 (ipykernel)",
   "language": "python",
   "name": "python3"
  },
  "language_info": {
   "codemirror_mode": {
    "name": "ipython",
    "version": 3
   },
   "file_extension": ".py",
   "mimetype": "text/x-python",
   "name": "python",
   "nbconvert_exporter": "python",
   "pygments_lexer": "ipython3",
   "version": "3.9.13"
  }
 },
 "nbformat": 4,
 "nbformat_minor": 5
}
